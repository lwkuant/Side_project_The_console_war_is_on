{
 "cells": [
  {
   "cell_type": "code",
   "execution_count": null,
   "metadata": {
    "collapsed": true
   },
   "outputs": [],
   "source": []
  },
  {
   "cell_type": "code",
   "execution_count": null,
   "metadata": {
    "collapsed": true
   },
   "outputs": [],
   "source": []
  },
  {
   "cell_type": "code",
   "execution_count": null,
   "metadata": {
    "collapsed": true
   },
   "outputs": [],
   "source": []
  },
  {
   "cell_type": "code",
   "execution_count": null,
   "metadata": {
    "collapsed": true
   },
   "outputs": [],
   "source": []
  },
  {
   "cell_type": "code",
   "execution_count": null,
   "metadata": {
    "collapsed": true
   },
   "outputs": [],
   "source": []
  },
  {
   "cell_type": "code",
   "execution_count": null,
   "metadata": {
    "collapsed": true
   },
   "outputs": [],
   "source": []
  },
  {
   "cell_type": "markdown",
   "metadata": {},
   "source": [
    "## Step 1: EDA"
   ]
  },
  {
   "cell_type": "code",
   "execution_count": 69,
   "metadata": {
    "collapsed": true
   },
   "outputs": [],
   "source": [
    "## load required packages\n",
    "import pandas as pd\n",
    "import numpy as np \n",
    "import scipy as sp\n",
    "import seaborn as sns\n",
    "import matplotlib.pyplot as plt \n",
    "%matplotlib inline "
   ]
  },
  {
   "cell_type": "code",
   "execution_count": 70,
   "metadata": {
    "collapsed": false
   },
   "outputs": [
    {
     "name": "stdout",
     "output_type": "stream",
     "text": [
      "D:\\Dataset\\Side_project_Video_Game_Sales\n",
      "                       Name Platform  Year_of_Release         Genre Publisher  \\\n",
      "0                Wii Sports      Wii           2006.0        Sports  Nintendo   \n",
      "1         Super Mario Bros.      NES           1985.0      Platform  Nintendo   \n",
      "2            Mario Kart Wii      Wii           2008.0        Racing  Nintendo   \n",
      "3         Wii Sports Resort      Wii           2009.0        Sports  Nintendo   \n",
      "4  Pokemon Red/Pokemon Blue       GB           1996.0  Role-Playing  Nintendo   \n",
      "\n",
      "   NA_Sales  EU_Sales  JP_Sales  Other_Sales  Global_Sales  Critic_Score  \\\n",
      "0     41.36     28.96      3.77         8.45         82.53          76.0   \n",
      "1     29.08      3.58      6.81         0.77         40.24           NaN   \n",
      "2     15.68     12.76      3.79         3.29         35.52          82.0   \n",
      "3     15.61     10.93      3.28         2.95         32.77          80.0   \n",
      "4     11.27      8.89     10.22         1.00         31.37           NaN   \n",
      "\n",
      "   Critic_Count User_Score  User_Count Developer Rating  \n",
      "0          51.0          8       322.0  Nintendo      E  \n",
      "1           NaN        NaN         NaN       NaN    NaN  \n",
      "2          73.0        8.3       709.0  Nintendo      E  \n",
      "3          73.0          8       192.0  Nintendo      E  \n",
      "4           NaN        NaN         NaN       NaN    NaN  \n",
      "<class 'pandas.core.frame.DataFrame'>\n",
      "RangeIndex: 16719 entries, 0 to 16718\n",
      "Data columns (total 16 columns):\n",
      "Name               16717 non-null object\n",
      "Platform           16719 non-null object\n",
      "Year_of_Release    16450 non-null float64\n",
      "Genre              16717 non-null object\n",
      "Publisher          16665 non-null object\n",
      "NA_Sales           16719 non-null float64\n",
      "EU_Sales           16719 non-null float64\n",
      "JP_Sales           16719 non-null float64\n",
      "Other_Sales        16719 non-null float64\n",
      "Global_Sales       16719 non-null float64\n",
      "Critic_Score       8137 non-null float64\n",
      "Critic_Count       8137 non-null float64\n",
      "User_Score         10015 non-null object\n",
      "User_Count         7590 non-null float64\n",
      "Developer          10096 non-null object\n",
      "Rating             9950 non-null object\n",
      "dtypes: float64(9), object(7)\n",
      "memory usage: 2.0+ MB\n",
      "None\n",
      "Name                True\n",
      "Platform           False\n",
      "Year_of_Release     True\n",
      "Genre               True\n",
      "Publisher           True\n",
      "NA_Sales           False\n",
      "EU_Sales           False\n",
      "JP_Sales           False\n",
      "Other_Sales        False\n",
      "Global_Sales       False\n",
      "Critic_Score        True\n",
      "Critic_Count        True\n",
      "User_Score          True\n",
      "User_Count          True\n",
      "Developer           True\n",
      "Rating              True\n",
      "dtype: bool\n"
     ]
    }
   ],
   "source": [
    "## Load the data and check\n",
    "import os \n",
    "os.chdir(r'D:\\Dataset\\Side_project_Video_Game_Sales')\n",
    "print(os.getcwd())\n",
    "\n",
    "games = pd.read_csv('Video_Games_Sales_as_at_22_Dec_2016.csv')\n",
    "print(games.head())\n",
    "\n",
    "print(games.info())\n",
    "\n",
    "print(games.isnull().any())\n",
    "\n",
    "os.chdir(r'D:\\Project\\Side_project_Video_Game_Sales')"
   ]
  },
  {
   "cell_type": "code",
   "execution_count": 82,
   "metadata": {
    "collapsed": false
   },
   "outputs": [
    {
     "name": "stdout",
     "output_type": "stream",
     "text": [
      "PS2     2161\n",
      "DS      2152\n",
      "PS3     1331\n",
      "Wii     1320\n",
      "X360    1262\n",
      "PSP     1209\n",
      "PS      1197\n",
      "PC       974\n",
      "XB       824\n",
      "GBA      822\n",
      "Name: Platform, dtype: int64\n"
     ]
    },
    {
     "data": {
      "text/plain": [
       "<matplotlib.figure.Figure at 0x236980cb240>"
      ]
     },
     "metadata": {},
     "output_type": "display_data"
    },
    {
     "data": {
      "image/png": "[encoded data removed]",
      "text/plain": [
       "<matplotlib.figure.Figure at 0x23699bab9b0>"
      ]
     },
     "metadata": {},
     "output_type": "display_data"
    }
   ],
   "source": [
    "## Column: Platform\n",
    "print(games.Platform.value_counts()[:10])\n",
    "\n",
    "# Visualization: the change of platforms by years\n",
    "games_yr = games.groupby(['Year_of_Release'])\n",
    "#print(games_yr['Platform'].value_counts())\n",
    "year_index = [float(x) for x in range(2007, 2017)]\n",
    "plat_index = []\n",
    "for year in year_index:\n",
    "    plat_index.extend(list(games_yr['Platform'].value_counts()[year].index))\n",
    "plat_index = list(set(plat_index))\n",
    "# create the data frame for platforms and years\n",
    "plat_year = pd.DataFrame(columns=year_index, index=list(set(plat_index)))\n",
    "for year in year_index:\n",
    "    plat_year[year] = games_yr['Platform'].value_counts()[year]\n",
    "plat_year.columns = [str(int(x)) for x in year_index]\n",
    "# fill the NAs as 0\n",
    "plat_year.fillna(0)\n",
    "# calculate the percentage for each platform in each year\n",
    "plat_year_perc = plat_year.apply(lambda x: x/np.sum(x)*100, axis=0)\n",
    "# plotting\n",
    "plt.figure(figsize=[20, 20])\n",
    "plat_year_perc.transpose().plot(kind='bar', stacked=True, colormap='Paired', edgecolor='none')\n",
    "plt.subplots_adjust(bottom=0.15, right=0.8)\n",
    "plt.legend(loc='center left', bbox_to_anchor=(1.0, 0.5))\n",
    "plt.title('Platform Change by Year')\n",
    "plt.xlabel('Year')\n",
    "plt.ylabel('Percentage')\n",
    "plt.savefig('Platform_change_by_year.png', dpi=300)"
   ]
  },
  {
   "cell_type": "code",
   "execution_count": null,
   "metadata": {
    "collapsed": true
   },
   "outputs": [],
   "source": []
  }
 ],
 "metadata": {
  "anaconda-cloud": {},
  "kernelspec": {
   "display_name": "Python [default]",
   "language": "python",
   "name": "python3"
  },
  "language_info": {
   "codemirror_mode": {
    "name": "ipython",
    "version": 3
   },
   "file_extension": ".py",
   "mimetype": "text/x-python",
   "name": "python",
   "nbconvert_exporter": "python",
   "pygments_lexer": "ipython3",
   "version": "3.5.2"
  }
 },
 "nbformat": 4,
 "nbformat_minor": 1
}
